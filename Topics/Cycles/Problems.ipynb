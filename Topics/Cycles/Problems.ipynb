{
 "cells": [
  {
   "cell_type": "markdown",
   "id": "20ccdc0b",
   "metadata": {},
   "source": [
    "# Cycle Finding"
   ]
  },
  {
   "cell_type": "markdown",
   "id": "53cb73e0",
   "metadata": {},
   "source": [
    "## Cycles in Astronomy"
   ]
  },
  {
   "cell_type": "markdown",
   "id": "32916403",
   "metadata": {},
   "source": [
    "In this section, we present some data from a variable star.  The data consists of observed brightness ([magnitude](https://en.wikipedia.org/wiki/Apparent_magnitude)) as a function date (expressed as a [barycentric Julian date](https://en.wikipedia.org/wiki/Barycentric_Julian_Date) (`bjd`)).  Unfortunately, the data is neither uniformly space in time, nor complete (due to cloudy weather).\n",
    "\n",
    "Assume that the brightness of the variable star is modelled by a periodic (but not nessesarily sinusoidal) function.  What is the period of oscillation?\n",
    "\n",
    "*(Data courtesy of Michael Allen.)*"
   ]
  },
  {
   "cell_type": "code",
   "execution_count": null,
   "id": "8ae7fbf3",
   "metadata": {},
   "outputs": [],
   "source": [
    "%matplotlib inline\n",
    "import numpy as np, matplotlib.pyplot as plt\n",
    "\n",
    "bjd, magnitude, magnitude_err = np.loadtxt(\"data/V1_calibExcel.csv\", delimiter=\",\").T\n",
    "fig, ax = plt.subplots(figsize=(10, 5))\n",
    "ax.errorbar(bjd, magnitude, yerr=magnitude_err, fmt=\"+\")\n",
    "ax.set(\n",
    "    xlabel=\"Time (days, BJD)\",\n",
    "    ylabel=\"Brightness (magnitude)\",\n",
    "    title=\"Apparent magnitude of a variable star over time.\",\n",
    ");"
   ]
  },
  {
   "cell_type": "markdown",
   "id": "f7ecb53d",
   "metadata": {},
   "source": [
    "## Temperature in Moab UT"
   ]
  },
  {
   "cell_type": "markdown",
   "id": "0d680feb",
   "metadata": {},
   "source": [
    "Here we look for cycles in the temperature of Arches National Park near Moab UT, ordered from [NOAA](https://www.ncdc.noaa.gov/cdo-web/datasets):\n",
    "\n",
    "```\n",
    "ORDER ID: #2478833\n",
    "https://www.ncdc.noaa.gov/cdo-web/orders?email=michael.forbes@gmail.com&id=2478833\n",
    "Stations\t\n",
    "GHCND:USC00420336\n",
    "Begin Date\t1980-06-01 00:00\n",
    "End Date\t2021-01-29 23:59\n",
    "Data Types\t\n",
    "TMAX TMIN TOBS\n",
    "Units\t\n",
    "Metric\n",
    "Custom Flag(s)\t\n",
    "Station Name\n",
    "Eligible for Certification\tNo\n",
    "```\n",
    "\n",
    "We load the data using [Pandas](https://pandas.pydata.org/)."
   ]
  },
  {
   "cell_type": "markdown",
   "id": "11a2d277",
   "metadata": {},
   "source": [
    "The data here has a `DATE` and three temperatures `TOBS`, `TMIN`, and `TMAX`.  The latter two represent the minimum and maximum temperatures over the day.  *(`TOBS` is the \"observed temperature\", but this dataset does not list the times, so I would probably stick to analyzing `TMIN` and `TMAX`.)*\n",
    "\n",
    "From this data, can you determine how long is a [tropical year](https://en.wikipedia.org/wiki/Tropical_year) is?  With what accuracy?  How does your result/error estimate change if you include only a subset of the data?\n",
    "\n"
   ]
  },
  {
   "cell_type": "code",
   "execution_count": null,
   "id": "7b1af220",
   "metadata": {},
   "outputs": [],
   "source": [
    "%matplotlib inline\n",
    "import numpy as np, matplotlib.pyplot as plt\n",
    "import pandas as pd\n",
    "\n",
    "datafile = 'data/2478833.csv'\n",
    "data = pd.read_csv(datafile, quotechar='\"', parse_dates=[2])"
   ]
  },
  {
   "cell_type": "code",
   "execution_count": null,
   "id": "a3b22bc9",
   "metadata": {},
   "outputs": [],
   "source": [
    "years = np.unique(data.DATE.dt.year)\n",
    "decades = np.unique(years // 10)\n",
    "\n",
    "\n",
    "fig, axs = plt.subplots(len(decades), 1, figsize=(12, 3 * len(decades)))\n",
    "for decade, ax in zip(decades, axs):\n",
    "    inds = np.where(data.DATE.dt.year // 10 == decade)[0]\n",
    "    date, t0, tmin, tmax = (\n",
    "        data.DATE[inds],\n",
    "        data.TOBS[inds],\n",
    "        data.TMIN[inds],\n",
    "        data.TMAX[inds],\n",
    "    )\n",
    "    ax.errorbar(\n",
    "        date,\n",
    "        t0,\n",
    "        yerr=[t0 - tmin, tmax - t0],\n",
    "        ls=\"none\",\n",
    "        fmt=\"\",\n",
    "        elinewidth=0.5,\n",
    "        capsize=2,\n",
    "        capthick=1,\n",
    "        alpha=0.5\n",
    "    )\n",
    "    ax.set(\n",
    "        xlim=np.array([str(decade * 10), str((decade + 1) * 10)], dtype=np.datetime64),\n",
    "        ylabel=\"$T$ [C]\",\n",
    "    )"
   ]
  },
  {
   "cell_type": "markdown",
   "id": "ec1c6f4c",
   "metadata": {},
   "source": [
    "To make this a little easier to work with, we convert the date to a time difference -- the number of days since the start of the observations -- and package them in a dictionary with three keys `TOBS`, `TMIN`, and `TMAX`"
   ]
  },
  {
   "cell_type": "code",
   "execution_count": null,
   "id": "298ff890",
   "metadata": {},
   "outputs": [],
   "source": [
    "from collections import namedtuple\n",
    "t = (data.DATE - data.DATE[0]).dt.days.values\n",
    "TimeTemp = namedtuple('TimeTemp', ['t', 'T'])\n",
    "tTOBS, tTMIN, tTMAX = [TimeTemp(t[_inds], _d.values[_inds])\n",
    "                       for _d in (data.TOBS, data.TMIN, data.TMAX)\n",
    "                       for _inds in [np.where(~np.isnan(_d.values))[0]]]\n",
    "tTs = dict(TOBS=tTOBS, TMIN=tTMIN, TMAX=tTMAX)"
   ]
  },
  {
   "cell_type": "code",
   "execution_count": null,
   "id": "911a2e5c",
   "metadata": {},
   "outputs": [],
   "source": [
    "fig, ax = plt.subplots(1, 1, figsize=(20,2), sharex=True)\n",
    "for key in tTs:\n",
    "    t, T = tTs[key]\n",
    "    ax.plot(t, T, lw=0.2, alpha=0.5, label=key)\n",
    "ax.set(xlabel='day', ylabel='$T$ [C]')\n",
    "ax.legend()"
   ]
  }
 ],
 "metadata": {
  "kernelspec": {
   "display_name": "Python 3 (phys-581-2021)",
   "language": "python",
   "name": "phys-581-2021"
  },
  "language_info": {
   "codemirror_mode": {
    "name": "ipython",
    "version": 3
   },
   "file_extension": ".py",
   "mimetype": "text/x-python",
   "name": "python",
   "nbconvert_exporter": "python",
   "pygments_lexer": "ipython3",
   "version": "3.9.7"
  },
  "toc": {
   "base_numbering": 1,
   "nav_menu": {},
   "number_sections": true,
   "sideBar": true,
   "skip_h1_title": false,
   "title_cell": "Table of Contents",
   "title_sidebar": "Contents",
   "toc_cell": false,
   "toc_position": {},
   "toc_section_display": true,
   "toc_window_display": false
  },
  "varInspector": {
   "cols": {
    "lenName": 16,
    "lenType": 16,
    "lenVar": 40
   },
   "kernels_config": {
    "python": {
     "delete_cmd_postfix": "",
     "delete_cmd_prefix": "del ",
     "library": "var_list.py",
     "varRefreshCmd": "print(var_dic_list())"
    },
    "r": {
     "delete_cmd_postfix": ") ",
     "delete_cmd_prefix": "rm(",
     "library": "var_list.r",
     "varRefreshCmd": "cat(var_dic_list()) "
    }
   },
   "types_to_exclude": [
    "module",
    "function",
    "builtin_function_or_method",
    "instance",
    "_Feature"
   ],
   "window_display": false
  }
 },
 "nbformat": 4,
 "nbformat_minor": 5
}
